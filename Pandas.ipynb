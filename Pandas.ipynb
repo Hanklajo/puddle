{
 "cells": [
  {
   "cell_type": "code",
   "execution_count": 3,
   "id": "4a217b98",
   "metadata": {},
   "outputs": [],
   "source": [
    "import numpy as np\n",
    "import matplotlib.pyplot as plt\n",
    "import numpy as np\n",
    "import pandas as pd\n",
    "\n",
    "import os \n",
    "import numpy as np\n",
    "import matplotlib.pyplot as plt\n",
    "import cv2\n",
    "import random\n",
    "import tensorflow as tf\n",
    "import math\n",
    "from tensorflow.keras.optimizers import SGD,Adam,RMSprop\n",
    "\n",
    "\n",
    "from tqdm import tqdm\n",
    "from keras.layers import Activation"
   ]
  },
  {
   "cell_type": "code",
   "execution_count": 4,
   "id": "d61d0836",
   "metadata": {},
   "outputs": [],
   "source": [
    "path = '/home/hankla/Desktop/learn/machine_data/ตัวอย่าง-1-เดือน (1).csv'"
   ]
  },
  {
   "cell_type": "code",
   "execution_count": 6,
   "id": "8a8790da",
   "metadata": {},
   "outputs": [],
   "source": [
    "df = pd.read_csv(path)\n",
    "num = 18"
   ]
  },
  {
   "cell_type": "code",
   "execution_count": 7,
   "id": "56233716",
   "metadata": {},
   "outputs": [
    {
     "ename": "KeyError",
     "evalue": "'hf weight'",
     "output_type": "error",
     "traceback": [
      "\u001b[0;31m---------------------------------------------------------------------------\u001b[0m",
      "\u001b[0;31mKeyError\u001b[0m                                  Traceback (most recent call last)",
      "File \u001b[0;32m~/.local/lib/python3.8/site-packages/pandas/core/indexes/base.py:3653\u001b[0m, in \u001b[0;36mIndex.get_loc\u001b[0;34m(self, key)\u001b[0m\n\u001b[1;32m   3652\u001b[0m \u001b[38;5;28;01mtry\u001b[39;00m:\n\u001b[0;32m-> 3653\u001b[0m     \u001b[38;5;28;01mreturn\u001b[39;00m \u001b[38;5;28;43mself\u001b[39;49m\u001b[38;5;241;43m.\u001b[39;49m\u001b[43m_engine\u001b[49m\u001b[38;5;241;43m.\u001b[39;49m\u001b[43mget_loc\u001b[49m\u001b[43m(\u001b[49m\u001b[43mcasted_key\u001b[49m\u001b[43m)\u001b[49m\n\u001b[1;32m   3654\u001b[0m \u001b[38;5;28;01mexcept\u001b[39;00m \u001b[38;5;167;01mKeyError\u001b[39;00m \u001b[38;5;28;01mas\u001b[39;00m err:\n",
      "File \u001b[0;32m~/.local/lib/python3.8/site-packages/pandas/_libs/index.pyx:147\u001b[0m, in \u001b[0;36mpandas._libs.index.IndexEngine.get_loc\u001b[0;34m()\u001b[0m\n",
      "File \u001b[0;32m~/.local/lib/python3.8/site-packages/pandas/_libs/index.pyx:176\u001b[0m, in \u001b[0;36mpandas._libs.index.IndexEngine.get_loc\u001b[0;34m()\u001b[0m\n",
      "File \u001b[0;32mpandas/_libs/hashtable_class_helper.pxi:7080\u001b[0m, in \u001b[0;36mpandas._libs.hashtable.PyObjectHashTable.get_item\u001b[0;34m()\u001b[0m\n",
      "File \u001b[0;32mpandas/_libs/hashtable_class_helper.pxi:7088\u001b[0m, in \u001b[0;36mpandas._libs.hashtable.PyObjectHashTable.get_item\u001b[0;34m()\u001b[0m\n",
      "\u001b[0;31mKeyError\u001b[0m: 'hf weight'",
      "\nThe above exception was the direct cause of the following exception:\n",
      "\u001b[0;31mKeyError\u001b[0m                                  Traceback (most recent call last)",
      "Cell \u001b[0;32mIn[7], line 4\u001b[0m\n\u001b[1;32m      2\u001b[0m OUTPUTS_hf \u001b[38;5;241m=\u001b[39m []\n\u001b[1;32m      3\u001b[0m \u001b[38;5;28;01mfor\u001b[39;00m idx \u001b[38;5;129;01min\u001b[39;00m \u001b[38;5;28mrange\u001b[39m(\u001b[38;5;241m18\u001b[39m):\n\u001b[0;32m----> 4\u001b[0m     ip \u001b[38;5;241m=\u001b[39m \u001b[43mdf\u001b[49m\u001b[43m[\u001b[49m\u001b[38;5;124;43m'\u001b[39;49m\u001b[38;5;124;43mhf weight\u001b[39;49m\u001b[38;5;124;43m'\u001b[39;49m\u001b[43m]\u001b[49m[idx]\n\u001b[1;32m      5\u001b[0m     op \u001b[38;5;241m=\u001b[39m df[\u001b[38;5;124m'\u001b[39m\u001b[38;5;124mhf cacas\u001b[39m\u001b[38;5;124m'\u001b[39m][idx]\n\u001b[1;32m      7\u001b[0m     INPUT_hf\u001b[38;5;241m.\u001b[39mappend(ip)\n",
      "File \u001b[0;32m~/.local/lib/python3.8/site-packages/pandas/core/frame.py:3761\u001b[0m, in \u001b[0;36mDataFrame.__getitem__\u001b[0;34m(self, key)\u001b[0m\n\u001b[1;32m   3759\u001b[0m \u001b[38;5;28;01mif\u001b[39;00m \u001b[38;5;28mself\u001b[39m\u001b[38;5;241m.\u001b[39mcolumns\u001b[38;5;241m.\u001b[39mnlevels \u001b[38;5;241m>\u001b[39m \u001b[38;5;241m1\u001b[39m:\n\u001b[1;32m   3760\u001b[0m     \u001b[38;5;28;01mreturn\u001b[39;00m \u001b[38;5;28mself\u001b[39m\u001b[38;5;241m.\u001b[39m_getitem_multilevel(key)\n\u001b[0;32m-> 3761\u001b[0m indexer \u001b[38;5;241m=\u001b[39m \u001b[38;5;28;43mself\u001b[39;49m\u001b[38;5;241;43m.\u001b[39;49m\u001b[43mcolumns\u001b[49m\u001b[38;5;241;43m.\u001b[39;49m\u001b[43mget_loc\u001b[49m\u001b[43m(\u001b[49m\u001b[43mkey\u001b[49m\u001b[43m)\u001b[49m\n\u001b[1;32m   3762\u001b[0m \u001b[38;5;28;01mif\u001b[39;00m is_integer(indexer):\n\u001b[1;32m   3763\u001b[0m     indexer \u001b[38;5;241m=\u001b[39m [indexer]\n",
      "File \u001b[0;32m~/.local/lib/python3.8/site-packages/pandas/core/indexes/base.py:3655\u001b[0m, in \u001b[0;36mIndex.get_loc\u001b[0;34m(self, key)\u001b[0m\n\u001b[1;32m   3653\u001b[0m     \u001b[38;5;28;01mreturn\u001b[39;00m \u001b[38;5;28mself\u001b[39m\u001b[38;5;241m.\u001b[39m_engine\u001b[38;5;241m.\u001b[39mget_loc(casted_key)\n\u001b[1;32m   3654\u001b[0m \u001b[38;5;28;01mexcept\u001b[39;00m \u001b[38;5;167;01mKeyError\u001b[39;00m \u001b[38;5;28;01mas\u001b[39;00m err:\n\u001b[0;32m-> 3655\u001b[0m     \u001b[38;5;28;01mraise\u001b[39;00m \u001b[38;5;167;01mKeyError\u001b[39;00m(key) \u001b[38;5;28;01mfrom\u001b[39;00m \u001b[38;5;21;01merr\u001b[39;00m\n\u001b[1;32m   3656\u001b[0m \u001b[38;5;28;01mexcept\u001b[39;00m \u001b[38;5;167;01mTypeError\u001b[39;00m:\n\u001b[1;32m   3657\u001b[0m     \u001b[38;5;66;03m# If we have a listlike key, _check_indexing_error will raise\u001b[39;00m\n\u001b[1;32m   3658\u001b[0m     \u001b[38;5;66;03m#  InvalidIndexError. Otherwise we fall through and re-raise\u001b[39;00m\n\u001b[1;32m   3659\u001b[0m     \u001b[38;5;66;03m#  the TypeError.\u001b[39;00m\n\u001b[1;32m   3660\u001b[0m     \u001b[38;5;28mself\u001b[39m\u001b[38;5;241m.\u001b[39m_check_indexing_error(key)\n",
      "\u001b[0;31mKeyError\u001b[0m: 'hf weight'"
     ]
    }
   ],
   "source": [
    "INPUT_hf = []\n",
    "OUTPUTS_hf = []\n",
    "for idx in range(18):\n",
    "    ip = df['hf weight'][idx]\n",
    "    op = df['hf cacas'][idx]\n",
    "    \n",
    "    INPUT_hf.append(ip)\n",
    "    OUTPUTS_hf.append(op)\n",
    "x = np.array(INPUT_hf)*0.001\n",
    "y = np.array(OUTPUTS_hf)*0.001"
   ]
  },
  {
   "cell_type": "code",
   "execution_count": null,
   "id": "b754fb40",
   "metadata": {},
   "outputs": [],
   "source": [
    "plt.plot(x,y, 'o')"
   ]
  },
  {
   "cell_type": "code",
   "execution_count": null,
   "id": "fa11eedc",
   "metadata": {},
   "outputs": [],
   "source": [
    "def h(theta0,theta1,theta2,theta3,theta4,theta5,theta6,theta7,theta8,x):\n",
    "    return theta0+(theta1*x)+(theta2*(x**2))+(theta3*(x**3))+(theta4*(x**4))+(theta5*(x**5))+(theta6*(x**6))+(theta7*(x**7))+(theta8*(x**8))"
   ]
  },
  {
   "cell_type": "code",
   "execution_count": null,
   "id": "a63d4de6",
   "metadata": {},
   "outputs": [],
   "source": [
    "theta0 = np.random.rand(1)\n",
    "theta1 = np.random.rand(1)\n",
    "theta2 = np.random.rand(1)\n",
    "theta3 = np.random.rand(1)\n",
    "theta4 = np.random.rand(1)\n",
    "theta5 = np.random.rand(1)\n",
    "theta6 = np.random.rand(1)\n",
    "theta7 = np.random.rand(1)\n",
    "theta8 = np.random.rand(1)"
   ]
  },
  {
   "cell_type": "code",
   "execution_count": null,
   "id": "1f65a20a",
   "metadata": {},
   "outputs": [],
   "source": [
    "lr = 0.001\n",
    "epoch = 10000"
   ]
  },
  {
   "cell_type": "code",
   "execution_count": null,
   "id": "dec64fde",
   "metadata": {},
   "outputs": [],
   "source": [
    "for i in tqdm(range(epoch)):\n",
    "    error = h(theta0,theta1,theta2,theta3,theta4,theta5,theta6,theta7,theta8,x)-y\n",
    "    theta0 = theta0 - lr*(1/num) * np.sum(error)\n",
    "    theta1 = theta1 - lr*(1/num) * np.sum(error*x)\n",
    "    theta2 = theta2 - lr*(1/num) * np.sum(error*(x**2))\n",
    "    theta3 = theta3 - lr*(1/num) * np.sum(error*(x**3))\n",
    "    theta4 = theta4 - lr*(1/num) * np.sum(error*(x**4))\n",
    "    theta5 = theta5 - lr*(1/num) * np.sum(error*(x**5))\n",
    "    theta6 = theta6 - lr*(1/num) * np.sum(error*(x**6))\n",
    "    theta7 = theta7 - lr*(1/num) * np.sum(error*(x**7))\n",
    "    theta8 = theta8 - lr*(1/num) * np.sum(error*(x**8))\n",
    "#     theta9 = theta9 - lr*(1/num) * np.sum(error*(x**9))\n",
    "#     theta10 = theta10 - lr*(1/num) * np.sum(error*(x**10))"
   ]
  },
  {
   "cell_type": "code",
   "execution_count": null,
   "id": "505c1e4f",
   "metadata": {},
   "outputs": [],
   "source": [
    "y_pred = h(theta0,theta1,theta2,theta3,theta4,theta5,theta6,theta7,theta8,x)\n",
    "print(y_pred)"
   ]
  },
  {
   "cell_type": "code",
   "execution_count": null,
   "id": "1ee34136",
   "metadata": {},
   "outputs": [],
   "source": [
    "plt.plot(x,y, 'o')\n",
    "plt.plot(x,y_pred)\n",
    "\n"
   ]
  },
  {
   "cell_type": "code",
   "execution_count": null,
   "id": "0d006a1b",
   "metadata": {},
   "outputs": [],
   "source": [
    "weight_cow = 610\n",
    "h(theta0,theta1,theta2,theta3,theta4,theta5,theta6,theta7,theta8,weight_cow*0.001)*1000"
   ]
  },
  {
   "cell_type": "code",
   "execution_count": null,
   "id": "01c46bd2",
   "metadata": {},
   "outputs": [],
   "source": []
  },
  {
   "cell_type": "code",
   "execution_count": null,
   "id": "0c70949f",
   "metadata": {},
   "outputs": [],
   "source": []
  },
  {
   "cell_type": "code",
   "execution_count": null,
   "id": "9e129359",
   "metadata": {},
   "outputs": [],
   "source": []
  }
 ],
 "metadata": {
  "kernelspec": {
   "display_name": "Python 3 (ipykernel)",
   "language": "python",
   "name": "python3"
  },
  "language_info": {
   "codemirror_mode": {
    "name": "ipython",
    "version": 3
   },
   "file_extension": ".py",
   "mimetype": "text/x-python",
   "name": "python",
   "nbconvert_exporter": "python",
   "pygments_lexer": "ipython3",
   "version": "3.8.10"
  }
 },
 "nbformat": 4,
 "nbformat_minor": 5
}
